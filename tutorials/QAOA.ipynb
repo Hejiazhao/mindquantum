{
 "cells": [
  {
   "cell_type": "markdown",
   "metadata": {},
   "source": [
    "# 量子近似优化算法\n",
    "\n",
    "\n",
    "`Linux` `CPU` `全流程` `初级` `中级` `高级`\n",
    "\n",
    "[![](https://gitee.com/mindspore/docs/raw/master/tutorials/training/source_zh_cn/_static/logo_source.png)](https://gitee.com/mindspore/mindquantum/blob/master/tutorials/QAOA.ipynb)\n",
    "\n",
    "## 概述\n",
    "\n",
    "量子近似优化算法（Quantum Approximate Optimization Algorithm, QAOA）是利用量子计算机来近似解决组合优化问题的量子算法，最早由Farhi等人于2014年提出。在本教程里，我们将利用QAOA算法来解决最大割问题(Max-Cut)，以期熟悉MindQuantum中量子线路的搭建和训练。\n",
    "\n",
    "## 环境准备\n",
    "\n",
    "本教程所需要的额外库：\n",
    "\n",
    "- networks\n",
    "\n",
    "## Max-Cut问题描述\n",
    "\n",
    "Max-Cut问题是图论中的一个NP-complete问题，它需要将一个图中的顶点分成两部分，并使得两部分被切割的边最多。如下图（a），一个图由五个顶点构成，相互连接的边为```(0, 1), (1, 2), (2, 3), (3, 4), (0, 4)```，通过（b）图的分割，我们将1、2、4分为一组，0、3分成另一组，因此可得到被切割的边有5条。当图中顶点增多时，我们很难找到有效的经典算法来解决Max-Cut问题。下面，我们介绍怎么将Max-Cut问题转化为一个哈密顿量的基态能力求解问题。"
   ]
  },
  {
   "cell_type": "markdown",
   "metadata": {},
   "source": [
    "![max cut](./images/Max_Cut.png)"
   ]
  },
  {
   "cell_type": "markdown",
   "metadata": {},
   "source": [
    "## Max-Cut问题量子化\n",
    "\n",
    "这里我们将图中的每个顶点赋予一个量子比特，当顶点被分到左边时，我们将该顶点上的量子比特设置为$\\left|0\\right>$态，同理，右边为$\\left|1\\right>$态，当两个顶点被分到不同的集合中时，这两个顶点上的比特将处于不同的量子态。例如对于第0个顶点和第1个顶点，当其连线被切割是，两个顶点上的比特对应的量子态可以为$\\left|\\psi\\right>=\\left|0_11_0\\right>$或$\\left|\\psi\\right>=\\left|1_10_0\\right>$，其中下角标表示顶点的序号。此时，我们选择哈密顿量$H=(Z_1Z_0-1)/2$，不难发现：\n",
    "$$\\left<\\psi\\right|H\\left|\\psi\\right>=-1$$\n",
    "而当顶点被分到同一集合中是，不难验证此时：\n",
    "$$\\left<\\psi\\right|H\\left|\\psi\\right>=0$$\n",
    "因此，我们只用按照上面的规则，写出图对应的哈密顿量$H$，利用量子计算机求得$H$的基态能量与基态，我们就可以得到该图的Max-Cut切割方案与最大切割边数。我们记所有边的集合为$C$，所有边个数为$c$，则哈密顿量可写为：\n",
    "$$H=\\sum_{(i,j)\\in C}(Z_iZ_j-1)/2$$"
   ]
  },
  {
   "cell_type": "code",
   "execution_count": 2,
   "metadata": {},
   "outputs": [
    {
     "name": "stderr",
     "output_type": "stream",
     "text": [
      "/home/xuxs/gitee/mindquantum/mindquantum/__init__.py:48: UserWarning: [NOTE] Current simulator thread is 16. If your simulation is slow, set OMP_NUM_THREADS to a appropriate number according to your model.\n",
      "  omp_num_threads))\n"
     ]
    }
   ],
   "source": [
    "from mindquantum import Circuit, Hamiltonian, UN, H,ZZ,RX,StateEvolution\n",
    "from mindquantum.nn import MindQuantumAnsatzOnlyLayer\n",
    "from mindquantum.ops import QubitOperator\n",
    "import networkx as nx\n",
    "import mindspore.nn as nn\n",
    "import numpy as np\n",
    "import matplotlib.pyplot as plt"
   ]
  },
  {
   "cell_type": "code",
   "execution_count": 2,
   "metadata": {},
   "outputs": [
    {
     "data": {
      "image/png": "[encoded data removed]",
      "text/plain": [
       "<Figure size 432x288 with 1 Axes>"
      ]
     },
     "metadata": {},
     "output_type": "display_data"
    }
   ],
   "source": [
    "g=nx.Graph()\n",
    "nx.add_path(g,[0,1])\n",
    "nx.add_path(g,[1,2])\n",
    "nx.add_path(g,[2,3])\n",
    "nx.add_path(g,[3,4])\n",
    "nx.add_path(g,[0,4])\n",
    "nx.add_path(g,[0,2])\n",
    "nx.draw(g,with_labels=True,font_weight='bold')"
   ]
  },
  {
   "cell_type": "markdown",
   "metadata": {},
   "source": [
    "## 搭建QAOA量子线路"
   ]
  },
  {
   "cell_type": "code",
   "execution_count": 3,
   "metadata": {},
   "outputs": [],
   "source": [
    "def build_hc(g,para):\n",
    "    hc=Circuit()\n",
    "    for i in g.edges:\n",
    "        hc+=ZZ(para).on(i)\n",
    "    return hc\n",
    "\n",
    "def build_hb(g,para):\n",
    "    hc=Circuit()\n",
    "    for i in g.nodes:\n",
    "        hc+=RX(para).on(i)\n",
    "    return hc\n",
    "\n",
    "def build_ham(g):\n",
    "    hc=QubitOperator()\n",
    "    for i in g.edges:\n",
    "        hc+=QubitOperator(f'Z{i[0]} Z{i[1]}')\n",
    "    return hc\n",
    "\n",
    "def build_ansatz(g,p):\n",
    "    c=Circuit()\n",
    "    for i in range(p):\n",
    "        c+=build_hc(g,f'g{i}')\n",
    "        c+=build_hb(g,f'b{i}')\n",
    "    return c"
   ]
  },
  {
   "cell_type": "code",
   "execution_count": 4,
   "metadata": {},
   "outputs": [],
   "source": [
    "p=4\n",
    "ham = Hamiltonian(build_ham(g))\n",
    "ansatz = build_ansatz(g,p)\n",
    "init_state_circ = UN(H, g.nodes)"
   ]
  },
  {
   "cell_type": "code",
   "execution_count": 5,
   "metadata": {},
   "outputs": [],
   "source": [
    "net = MindQuantumAnsatzOnlyLayer(ansatz.para_name, init_state_circ+ansatz,ham)"
   ]
  },
  {
   "cell_type": "code",
   "execution_count": 6,
   "metadata": {},
   "outputs": [],
   "source": [
    "opti = nn.Adam(net.trainable_params(),learning_rate=0.05)"
   ]
  },
  {
   "cell_type": "code",
   "execution_count": 7,
   "metadata": {},
   "outputs": [],
   "source": [
    "train_net = nn.TrainOneStepCell(net, opti)"
   ]
  },
  {
   "cell_type": "markdown",
   "metadata": {},
   "source": [
    "## 训练并展示结果"
   ]
  },
  {
   "cell_type": "code",
   "execution_count": 8,
   "metadata": {
    "scrolled": true
   },
   "outputs": [
    {
     "name": "stdout",
     "output_type": "stream",
     "text": [
      "train step: 0 , cut: [[2.9962018]]\n",
      "train step: 10 , cut: [[2.926842]]\n",
      "train step: 20 , cut: [[3.1553357]]\n",
      "train step: 30 , cut: [[3.5062845]]\n",
      "train step: 40 , cut: [[3.866898]]\n",
      "train step: 50 , cut: [[4.0665703]]\n",
      "train step: 60 , cut: [[4.140947]]\n",
      "train step: 70 , cut: [[4.1416097]]\n",
      "train step: 80 , cut: [[4.103196]]\n",
      "train step: 90 , cut: [[4.1120386]]\n",
      "train step: 100 , cut: [[4.196638]]\n",
      "train step: 110 , cut: [[4.3144426]]\n",
      "train step: 120 , cut: [[4.404308]]\n",
      "train step: 130 , cut: [[4.440242]]\n",
      "train step: 140 , cut: [[4.4536867]]\n",
      "train step: 150 , cut: [[4.486898]]\n",
      "train step: 160 , cut: [[4.548495]]\n",
      "train step: 170 , cut: [[4.6175323]]\n",
      "train step: 180 , cut: [[4.666423]]\n",
      "train step: 190 , cut: [[4.681896]]\n",
      "train step: 200 , cut: [[4.6730976]]\n",
      "train step: 210 , cut: [[4.661927]]\n",
      "train step: 220 , cut: [[4.6660852]]\n",
      "train step: 230 , cut: [[4.690404]]\n",
      "train step: 240 , cut: [[4.7281966]]\n",
      "train step: 250 , cut: [[4.766745]]\n",
      "train step: 260 , cut: [[4.79385]]\n",
      "train step: 270 , cut: [[4.8037105]]\n",
      "train step: 280 , cut: [[4.7994857]]\n",
      "train step: 290 , cut: [[4.7907333]]\n",
      "train step: 300 , cut: [[4.787157]]\n",
      "train step: 310 , cut: [[4.7928987]]\n",
      "train step: 320 , cut: [[4.8051457]]\n",
      "train step: 330 , cut: [[4.8175554]]\n",
      "train step: 340 , cut: [[4.8257375]]\n",
      "train step: 350 , cut: [[4.830449]]\n",
      "train step: 360 , cut: [[4.835595]]\n",
      "train step: 370 , cut: [[4.843397]]\n",
      "train step: 380 , cut: [[4.8522425]]\n",
      "train step: 390 , cut: [[4.8589554]]\n",
      "train step: 400 , cut: [[4.8622737]]\n",
      "train step: 410 , cut: [[4.863657]]\n",
      "train step: 420 , cut: [[4.8650417]]\n",
      "train step: 430 , cut: [[4.8667455]]\n",
      "train step: 440 , cut: [[4.8678536]]\n",
      "train step: 450 , cut: [[4.867964]]\n",
      "train step: 460 , cut: [[4.8680553]]\n",
      "train step: 470 , cut: [[4.8696747]]\n",
      "train step: 480 , cut: [[4.873458]]\n",
      "train step: 490 , cut: [[4.878543]]\n",
      "train step: 500 , cut: [[4.8833857]]\n",
      "train step: 510 , cut: [[4.8871017]]\n",
      "train step: 520 , cut: [[4.8900414]]\n",
      "train step: 530 , cut: [[4.8931303]]\n",
      "train step: 540 , cut: [[4.8967376]]\n",
      "train step: 550 , cut: [[4.9002824]]\n",
      "train step: 560 , cut: [[4.902984]]\n",
      "train step: 570 , cut: [[4.9048815]]\n",
      "train step: 580 , cut: [[4.9068694]]\n",
      "train step: 590 , cut: [[4.909644]]\n"
     ]
    }
   ],
   "source": [
    "for i in range(600):\n",
    "    if i%10 == 0:\n",
    "        print(\"train step:\", i, \", cut:\", (len(g.edges)-train_net())/2)"
   ]
  },
  {
   "cell_type": "code",
   "execution_count": 9,
   "metadata": {},
   "outputs": [],
   "source": [
    "pr = dict(zip(ansatz.para_name,net.weight.asnumpy()))"
   ]
  },
  {
   "cell_type": "code",
   "execution_count": 10,
   "metadata": {},
   "outputs": [
    {
     "name": "stdout",
     "output_type": "stream",
     "text": [
      "(0.006099223624914885+0.00788161065429449j)¦00000⟩\n",
      "(-0.034017495810985565+0.0021149481181055307j)¦00001⟩\n",
      "(-0.002445211401209235-0.02516593411564827j)¦00010⟩\n",
      "(-0.01259702816605568+0.0018445311579853296j)¦00011⟩\n",
      "(-0.034017495810985565+0.0021149481181055307j)¦00100⟩\n",
      "(0.07298118621110916-0.1288059800863266j)¦00101⟩\n",
      "(-0.01259702816605568+0.0018445311579853296j)¦00110⟩\n",
      "(-0.013409003615379333+0.007149304263293743j)¦00111⟩\n",
      "(0.0038311604876071215+0.006157764699310064j)¦01000⟩\n",
      "(-0.48016485571861267+0.023700367659330368j)¦01001⟩\n",
      "(-0.009163610637187958-0.07471536844968796j)¦01010⟩\n",
      "(-0.48016485571861267+0.023700367659330368j)¦01011⟩\n",
      "(-0.015431646257638931-0.01248056162148714j)¦01100⟩\n",
      "(-0.009163610637187958-0.07471536844968796j)¦01101⟩\n",
      "(-0.015431646257638931-0.01248056162148714j)¦01110⟩\n",
      "(0.0038311604876071215+0.006157764699310064j)¦01111⟩\n",
      "(0.0038311604876071215+0.006157764699310064j)¦10000⟩\n",
      "(-0.015431646257638931-0.01248056162148714j)¦10001⟩\n",
      "(-0.009163610637187958-0.07471536844968796j)¦10010⟩\n",
      "(-0.015431646257638931-0.01248056162148714j)¦10011⟩\n",
      "(-0.48016485571861267+0.023700367659330368j)¦10100⟩\n",
      "(-0.009163610637187958-0.07471536844968796j)¦10101⟩\n",
      "(-0.48016485571861267+0.023700367659330368j)¦10110⟩\n",
      "(0.0038311604876071215+0.006157764699310064j)¦10111⟩\n",
      "(-0.013409003615379333+0.007149304263293743j)¦11000⟩\n",
      "(-0.01259702816605568+0.0018445311579853296j)¦11001⟩\n",
      "(0.07298118621110916-0.1288059800863266j)¦11010⟩\n",
      "(-0.034017495810985565+0.0021149481181055307j)¦11011⟩\n",
      "(-0.01259702816605568+0.0018445311579853296j)¦11100⟩\n",
      "(-0.002445211401209235-0.02516593411564827j)¦11101⟩\n",
      "(-0.034017495810985565+0.0021149481181055307j)¦11110⟩\n",
      "(0.006099223624914885+0.00788161065429449j)¦11111⟩\n"
     ]
    }
   ],
   "source": [
    "print(StateEvolution(init_state_circ+ansatz).final_state(pr,ket=True))"
   ]
  },
  {
   "cell_type": "code",
   "execution_count": 11,
   "metadata": {},
   "outputs": [],
   "source": [
    "def show_amp(state):\n",
    "    amp = np.abs(state)**2\n",
    "    n_qubits = int(np.log2(len(amp)))\n",
    "    labels = [bin(i)[2:].zfill(n_qubits) for i in range(len(amp))]\n",
    "    plt.bar(labels, amp)\n",
    "    plt.xticks(rotation=45)\n",
    "    plt.show()"
   ]
  },
  {
   "cell_type": "code",
   "execution_count": 12,
   "metadata": {},
   "outputs": [
    {
     "data": {
      "image/png": "[encoded data removed]",
      "text/plain": [
       "<Figure size 432x288 with 1 Axes>"
      ]
     },
     "metadata": {
      "needs_background": "light"
     },
     "output_type": "display_data"
    }
   ],
   "source": [
    "state = StateEvolution(init_state_circ+ansatz).final_state(pr)\n",
    "show_amp(state)"
   ]
  },
  {
   "cell_type": "markdown",
   "metadata": {},
   "source": [
    "## 参考文献\n",
    "\n",
    "[1] Edward Farhi, Jeffrey Goldstone, and Sam Gutmann. [A Quantum Approximate Optimization Algorithm](https://arxiv.org/pdf/1411.4028.pdf)"
   ]
  }
 ],
 "metadata": {
  "kernelspec": {
   "display_name": "Python 3",
   "language": "python",
   "name": "python3"
  },
  "language_info": {
   "codemirror_mode": {
    "name": "ipython",
    "version": 3
   },
   "file_extension": ".py",
   "mimetype": "text/x-python",
   "name": "python",
   "nbconvert_exporter": "python",
   "pygments_lexer": "ipython3",
   "version": "3.7.5"
  }
 },
 "nbformat": 4,
 "nbformat_minor": 4
}

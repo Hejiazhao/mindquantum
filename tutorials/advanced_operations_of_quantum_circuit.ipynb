{
 "cells": [
  {
   "cell_type": "markdown",
   "id": "681e955a",
   "metadata": {},
   "source": [
    "# 量子线路高阶操作\n",
    "在前面变分量子线路操作指导中介绍了 <a href=\"https://mindspore.cn/mindquantum/docs/zh-CN/master/parameterized_quantum_circuit.html#%E9%87%8F%E5%AD%90%E7%BA%BF%E8%B7%AF\" target=\"_blank\">量子线路</a> 的基本用法。接下来，我们将进一步探索MindQuantum为量子线路定义的一些高阶操作的用法。\n",
    "## mindquantum.core.circuit.controlled\n",
    "controlled方法用于对任意量子线路或量子算符添加控制量子比特（可以是多个）。\n",
    "\n",
    "例如，我们构建一个仅包含两个量子比特的量子线路，并通过controlled方法对其添加一个控制量子比特——$q_2$："
   ]
  },
  {
   "cell_type": "code",
   "execution_count": 18,
   "id": "c44755ab",
   "metadata": {},
   "outputs": [
    {
     "name": "stdout",
     "output_type": "stream",
     "text": [
      "q0: ──H────PS(π/2)─────────@──\n",
      "              │            │\n",
      "q1: ──────────●───────H────@──\n",
      "q0: ──H────PS(π/2)─────────@──\n",
      "      │       │            │\n",
      "q1: ──┼───────●───────H────@──\n",
      "      │       │       │    │\n",
      "q2: ──●───────●───────●────●──\n"
     ]
    }
   ],
   "source": [
    "from mindquantum.algorithm.library import qft\n",
    "from mindquantum.core.circuit import controlled\n",
    "\n",
    "u1 = qft(range(2))  # 构建量子线路\n",
    "print(u1)\n",
    "u2 = controlled(u1)(2)  # 对线路添加控制量子位q2，返回一个新的线路\n",
    "print(u2)"
   ]
  },
  {
   "cell_type": "markdown",
   "id": "4d63b2ef",
   "metadata": {},
   "source": [
    "实际上，controlled()返回的是一个函数。例如："
   ]
  },
  {
   "cell_type": "code",
   "execution_count": 3,
   "id": "6144080f",
   "metadata": {},
   "outputs": [],
   "source": [
    "u3 = controlled(u1)"
   ]
  },
  {
   "cell_type": "markdown",
   "id": "3c2a5acf",
   "metadata": {},
   "source": [
    "我们可通过调用u3来对初始线路u1添加控制量子位，和上面的效果是一样的："
   ]
  },
  {
   "cell_type": "code",
   "execution_count": 4,
   "id": "39a3af2d",
   "metadata": {},
   "outputs": [
    {
     "name": "stdout",
     "output_type": "stream",
     "text": [
      "q0: ──H────PS(π/2)─────────@──\n",
      "      │       │            │\n",
      "q1: ──┼───────●───────H────@──\n",
      "      │       │       │    │\n",
      "q2: ──●───────●───────●────●──\n"
     ]
    }
   ],
   "source": [
    "u4 = u3(2)\n",
    "print(u4)"
   ]
  },
  {
   "cell_type": "markdown",
   "id": "5381a350",
   "metadata": {},
   "source": [
    "注意：添加的控制量子比特不能是线路中已存在的某个门的目标量子比特，否则会报错！\n",
    "\n",
    "另外，我们还可以对量子线路批量添加控制位。例如，在下面的示例中，我们对$q_0$和$q_1$分别添加控制位——$q_2$和$q_3$："
   ]
  },
  {
   "cell_type": "code",
   "execution_count": 5,
   "id": "bb5e74ff",
   "metadata": {},
   "outputs": [
    {
     "name": "stdout",
     "output_type": "stream",
     "text": [
      "q0: ──H────PS(π/2)─────────@──\n",
      "      │       │            │\n",
      "q1: ──┼───────●───────H────@──\n",
      "      │       │       │    │\n",
      "q2: ──●───────●───────●────●──\n",
      "      │       │       │    │\n",
      "q3: ──●───────●───────●────●──\n"
     ]
    }
   ],
   "source": [
    "u = controlled(qft)\n",
    "u = u([2, 3], [0, 1])  # 批量添加控制位\n",
    "print(u)"
   ]
  },
  {
   "cell_type": "markdown",
   "id": "f991b869",
   "metadata": {},
   "source": [
    "## mindquantum.core.circuit.dagger\n",
    "dagger方法用于求量子线路或量子算符的厄米共轭。\n",
    "\n",
    "以下示例提供了两种进行dagger操作的方式："
   ]
  },
  {
   "cell_type": "code",
   "execution_count": 6,
   "id": "7d203008",
   "metadata": {},
   "outputs": [
    {
     "name": "stdout",
     "output_type": "stream",
     "text": [
      "q0: ──H────PS(π/2)────PS(π/4)─────────────────────────@──\n",
      "              │          │                            │\n",
      "q1: ──────────●──────────┼───────H────PS(π/2)─────────┼──\n",
      "                         │               │            │\n",
      "q2: ─────────────────────●───────────────●───────H────@──\n",
      "q0: ──@──────────────────────────PS(-π/4)────PS(-π/2)────H──\n",
      "      │                             │           │\n",
      "q1: ──┼─────────PS(-π/2)────H───────┼───────────●───────────\n",
      "      │            │                │\n",
      "q2: ──@────H───────●────────────────●───────────────────────\n",
      "q0: ──@──────────────────────────PS(-π/4)────PS(-π/2)────H──\n",
      "      │                             │           │\n",
      "q1: ──┼─────────PS(-π/2)────H───────┼───────────●───────────\n",
      "      │            │                │\n",
      "q2: ──@────H───────●────────────────●───────────────────────\n"
     ]
    }
   ],
   "source": [
    "from mindquantum.core.circuit import dagger\n",
    "\n",
    "u1 = qft(range(3))\n",
    "print(u1)\n",
    "u2 = dagger(u1)\n",
    "print(u2)\n",
    "\n",
    "u3 = dagger(qft)\n",
    "u4 = u3(range(3))\n",
    "print(u4)"
   ]
  },
  {
   "cell_type": "markdown",
   "id": "69117023",
   "metadata": {},
   "source": [
    "可看到，两种方式得到的线路是相同的。\n",
    "## mindquantum.core.circuit.apply\n",
    "apply方法用于将量子线路或量子算符作用在指定的量子比特（可以是多个）上。"
   ]
  },
  {
   "cell_type": "code",
   "execution_count": 8,
   "id": "865da650",
   "metadata": {},
   "outputs": [
    {
     "name": "stdout",
     "output_type": "stream",
     "text": [
      "q0: ──────────●───────H────@──\n",
      "              │            │\n",
      "q1: ──H────PS(π/2)─────────@── \n",
      "\n",
      "q0: ──────────●───────H────@──\n",
      "              │            │\n",
      "q1: ──H────PS(π/2)─────────@──\n"
     ]
    }
   ],
   "source": [
    "from mindquantum.core.circuit import apply\n",
    "\n",
    "u1 = qft([0, 1])\n",
    "circuit1 = apply(u1, [1, 0])  # 将量子线路u1作用在比特q1, q0上\n",
    "print(circuit1, \"\\n\")\n",
    "\n",
    "u2 = apply(qft, [1, 0])  # 将qft作用在比特q0, q1上\n",
    "circuit2 = u2([0, 1])\n",
    "print(circuit2)"
   ]
  },
  {
   "cell_type": "markdown",
   "id": "553beec8",
   "metadata": {},
   "source": [
    "## mindquantum.core.circuit.add_prefix\n",
    "add_prefix方法用于在参数化量子电路或参数化量子算符的参数名上加上前缀。这在神经网络分层中十分有用，例如："
   ]
  },
  {
   "cell_type": "code",
   "execution_count": 9,
   "id": "5c70b2f8",
   "metadata": {},
   "outputs": [
    {
     "name": "stdout",
     "output_type": "stream",
     "text": [
      "q0: ──RX(theta)──\n",
      "q0: ──RX(l0_theta)──\n"
     ]
    }
   ],
   "source": [
    "from mindquantum.core.circuit import add_prefix\n",
    "from mindquantum import RX, H, Circuit\n",
    "\n",
    "circ = Circuit().rx(\"theta\", 0)\n",
    "print(circ)\n",
    "\n",
    "circ = add_prefix(circ, 'l0')  # 添加后，参数\"theta\"就变成了\"l0_theta\"\n",
    "print(circ)"
   ]
  },
  {
   "cell_type": "markdown",
   "id": "e3c09fbc",
   "metadata": {},
   "source": [
    "我们可以在含参量子门作用于具体的量子比特后对其参数名称添加前缀，也可以在其还未应用于量子比特的时候添加。例如："
   ]
  },
  {
   "cell_type": "code",
   "execution_count": 10,
   "id": "71f56c75",
   "metadata": {},
   "outputs": [
    {
     "name": "stdout",
     "output_type": "stream",
     "text": [
      "q0: ──H────RX(ansatz_a)──\n",
      "q0: ──H────RX(ansatz_a)──\n"
     ]
    }
   ],
   "source": [
    "u = lambda qubit: Circuit([H.on(0), RX('a').on(qubit)])\n",
    "\n",
    "u1 = u(0)\n",
    "u1 = add_prefix(u1, 'ansatz')\n",
    "print(u1)\n",
    "\n",
    "u2 = add_prefix(u, 'ansatz')\n",
    "u2 = u2(0)\n",
    "print(u2)"
   ]
  },
  {
   "cell_type": "markdown",
   "id": "c05a8195",
   "metadata": {},
   "source": [
    "## mindquantum.core.circuit.change_param_name\n",
    "change_param_name方法用于修改参数化量子电路或参数化量子算符的参数名。"
   ]
  },
  {
   "cell_type": "code",
   "execution_count": 12,
   "id": "d844ba22",
   "metadata": {},
   "outputs": [
    {
     "name": "stdout",
     "output_type": "stream",
     "text": [
      "q0: ──H────RX(b)──\n",
      "q0: ──H────RX(b)──\n"
     ]
    }
   ],
   "source": [
    "from mindquantum.core.circuit import change_param_name\n",
    "from mindquantum import RX, H, Circuit\n",
    "\n",
    "u = lambda qubit: Circuit([H.on(0), RX('a').on(qubit)])\n",
    "\n",
    "u1 = u(0)\n",
    "u1 = change_param_name(u1, {'a': 'b'})\n",
    "print(u1)\n",
    "\n",
    "u2 = change_param_name(u, {'a': 'b'})\n",
    "u2 = u2(0)\n",
    "print(u2)"
   ]
  },
  {
   "cell_type": "markdown",
   "id": "522ec9fc",
   "metadata": {},
   "source": [
    "## mindquantum.core.circuit.UN\n",
    "UN模块用于将量子门作用于不同的目标量子比特和控制量子比特。\n",
    "\n",
    "一般格式如下：mindquantum.circuit.UN(gate, maps_obj, maps_ctrl=None)，参数gate是要执行的量子门，maps_obj是需要执行该量子门的目标量子比特，maps_ctrl是控制量子比特（无控制量子位时为None）。若每个量子比特位都执行同一不含参的量子门，则可以直接使用UN(gate, N)，N表示量子比特个数。\n",
    "\n",
    "以下是一个简单的示例，我们在构建的线路中对每一位量子比特都应用一个H门："
   ]
  },
  {
   "cell_type": "code",
   "execution_count": 14,
   "id": "6ba3b3ff",
   "metadata": {},
   "outputs": [
    {
     "name": "stdout",
     "output_type": "stream",
     "text": [
      "q0: ──H──\n",
      "\n",
      "q1: ──H──\n",
      "\n",
      "q2: ──H──\n",
      "\n",
      "q3: ──H──\n"
     ]
    }
   ],
   "source": [
    "from mindquantum.core.circuit import change_param_name\n",
    "from mindquantum import X, H, UN, SWAP, Circuit\n",
    "\n",
    "circuit1 = Circuit()\n",
    "circuit1 += UN(H, 4)  # 将H门作用在每一位量子比特上\n",
    "print(circuit1)"
   ]
  },
  {
   "cell_type": "markdown",
   "id": "52a24be7",
   "metadata": {},
   "source": [
    "以下示例中，我们对量子比特$q_2$和$q_0$、$q_3$和$q_1$分别添加一个CNOT门，其中$q_2$为控制位，$q_0$为目标位；$q_3$为控制位，$q_1$为目标位："
   ]
  },
  {
   "cell_type": "code",
   "execution_count": 21,
   "id": "3fbb0af7",
   "metadata": {},
   "outputs": [
    {
     "name": "stdout",
     "output_type": "stream",
     "text": [
      "q0: ──X───────\n",
      "      │\n",
      "q1: ──┼────X──\n",
      "      │    │\n",
      "q2: ──●────┼──\n",
      "           │\n",
      "q3: ───────●──\n"
     ]
    }
   ],
   "source": [
    "circuit2 = UN(X, maps_obj=[0, 1], maps_ctrl=[2, 3])\n",
    "print(circuit2)"
   ]
  },
  {
   "cell_type": "markdown",
   "id": "e44d378e",
   "metadata": {},
   "source": [
    "针对类似SWAP的门的用法如下："
   ]
  },
  {
   "cell_type": "code",
   "execution_count": 22,
   "id": "2ccd1cf8",
   "metadata": {},
   "outputs": [
    {
     "name": "stdout",
     "output_type": "stream",
     "text": [
      "q0: ──@───────\n",
      "      │\n",
      "q1: ──@────●──\n",
      "           │\n",
      "q2: ──@────X──\n",
      "      │\n",
      "q3: ──@───────\n"
     ]
    }
   ],
   "source": [
    "circuit3 = UN(SWAP, maps_obj=[[0, 1], [2, 3]]).x(2, 1)\n",
    "print(circuit3)"
   ]
  },
  {
   "cell_type": "markdown",
   "id": "9b0d1910",
   "metadata": {},
   "source": [
    "## mindquantum.core.circuit.shift\n",
    "shift方法用于修改给定线路的量子位范围，参数为要挪动的步长。注意，步长不能为负数。并且，只能挪到最后一个量子比特，不能循环到$q_0$（第一个量子位）。"
   ]
  },
  {
   "cell_type": "code",
   "execution_count": 32,
   "id": "71d000ca",
   "metadata": {},
   "outputs": [
    {
     "name": "stdout",
     "output_type": "stream",
     "text": [
      "q0: ──●──\n",
      "      │\n",
      "q1: ──X──\n",
      "q1: ──●──\n",
      "      │\n",
      "q2: ──X──\n"
     ]
    }
   ],
   "source": [
    "from mindquantum.core.circuit import shift\n",
    "from mindquantum import X, Circuit\n",
    "\n",
    "circ = Circuit().x(1, 0)\n",
    "print(circ)\n",
    "\n",
    "circ = shift(circ, 1)\n",
    "print(circ)  # 线路作用的量子比特从q0,q1变为q1,q2"
   ]
  },
  {
   "cell_type": "markdown",
   "id": "b5050bd9",
   "metadata": {},
   "source": [
    "### 案例——鸢尾花分类：搭建Encoder\n",
    "以上高阶操作的示例显示了量子线路高阶操作的适用性及便捷性，如果我们进一步将它们组合起来用于构建量子线路，又会产生什么神奇魔力呢？\n",
    "\n",
    "接下来我们将以<a href=\"https://www.mindspore.cn/mindquantum/docs/zh-CN/r0.5/classification_of_iris_by_qnn.html#%E9%80%9A%E8%BF%87%E9%87%8F%E5%AD%90%E7%A5%9E%E7%BB%8F%E7%BD%91%E7%BB%9C%E5%AF%B9%E9%B8%A2%E5%B0%BE%E8%8A%B1%E8%BF%9B%E8%A1%8C%E5%88%86%E7%B1%BB\" target=\"_blank\"> 通过量子神经网络对鸢尾花进行分类\n",
    " </a>的案例中<a href=\"https://mindspore.cn/mindquantum/docs/zh-CN/master/classification_of_iris_by_qnn.html#%E6%90%AD%E5%BB%BAencoder\" target=\"_blank\"> 搭建Encoder </a>部分为例，搭建下图所示的量子线路：\n",
    "\n",
    "![encoder classification of iris by qnn](https://gitee.com/mindspore/docs/raw/r1.6/docs/mindquantum/docs/source_zh_cn/images/encoder_classification_of_iris_by_qnn.png)\n"
   ]
  },
  {
   "cell_type": "code",
   "execution_count": 3,
   "id": "89bbaf78",
   "metadata": {},
   "outputs": [
    {
     "name": "stdout",
     "output_type": "stream",
     "text": [
      "q0: ──H────RZ(0_alpha)────●───────────────────●────────────────────────────────────────────────────\n",
      "                          │                   │\n",
      "q1: ──H────RZ(1_alpha)────X────RZ(4_alpha)────X────●───────────────────●───────────────────────────\n",
      "                                                   │                   │\n",
      "q2: ──H────RZ(2_alpha)─────────────────────────────X────RZ(5_alpha)────X────●───────────────────●──\n",
      "                                                                            │                   │\n",
      "q3: ──H────RZ(3_alpha)──────────────────────────────────────────────────────X────RZ(6_alpha)────X──\n",
      "=====================================Circuit Summary=====================================\n",
      "|Total number of gates  : 17.                                                           |\n",
      "|Parameter gates        : 7.                                                            |\n",
      "|with 7 parameters are  : 0_alpha, 1_alpha, 2_alpha, 3_alpha, 4_alpha, 5_alpha, 6_alpha.|\n",
      "|Number qubit of circuit: 4                                                             |\n",
      "=========================================================================================\n"
     ]
    }
   ],
   "source": [
    "from mindquantum.core.circuit import shift, add_prefix\n",
    "from mindquantum import RZ, X, H, UN, Circuit\n",
    "\n",
    "template = Circuit([X.on(1, 0), RZ('alpha').on(1), X.on(1, 0)])\n",
    "encoder = UN(H, 4) + (RZ(f'{i}_alpha').on(i) for i in range(4)) + sum(add_prefix(shift(template, i), f'{i+4}') for i in range(3))\n",
    "print(encoder)\n",
    "encoder.summary()"
   ]
  },
  {
   "cell_type": "markdown",
   "id": "8dcb676b",
   "metadata": {},
   "source": [
    "在上面的代码中，我们使用UN模块将不含参数的H门作用于目标量子比特$q_0$~$q_3$，然后将RZ(i_alpha)门作用于第i位量子比特。\n",
    "接着，观察到线路中有三个一样的模块，它们都由一个受控X门、一个RZ门和一个受控X门构成，因此，我们构造对应的模板template，它由一个受$q_0$控制、作用在$q_1$的X门，一个作用在$q_1$的RZ门和一个受$q_0$控制、作用在$q_1$的X门构成。然后我们通过shift(template, i)来改变模板作用的量子比特范围，构建三个结构相同但作用的量子比特范围相差1的模块，其涉及的量子比特范围分别为$q_0$和$q_1$、$q_1$和$q_2$、$q_2$和$q_3$。\n",
    "最后，我们使用add_prefix方法为通过shift构造的所有含参量子门的参数名加上一个数字前缀。\n",
    "\n",
    "至此，通过MindQuantum提供的这些量子线路高阶操作，我们仅用两行代码就构建了所需的Encoder！"
   ]
  }
 ],
 "metadata": {
  "kernelspec": {
   "display_name": "Python 3 (ipykernel)",
   "language": "python",
   "name": "python3"
  },
  "language_info": {
   "codemirror_mode": {
    "name": "ipython",
    "version": 3
   },
   "file_extension": ".py",
   "mimetype": "text/x-python",
   "name": "python",
   "nbconvert_exporter": "python",
   "pygments_lexer": "ipython3",
   "version": "3.7.5"
  }
 },
 "nbformat": 4,
 "nbformat_minor": 5
}

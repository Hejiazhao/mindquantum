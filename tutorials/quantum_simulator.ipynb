{
 "cells": [
  {
   "cell_type": "markdown",
   "metadata": {},
   "source": [
    "# 量子模拟器\n",
    "\n",
    "在MindQuantum中，我们可以利用量子模拟器`Simulator`来对量子线路进行模拟。这里我们声明一个两比特的`projectq`模拟器，并因此来简介模拟器的关键功能。"
   ]
  },
  {
   "cell_type": "code",
   "execution_count": 14,
   "metadata": {},
   "outputs": [
    {
     "data": {
      "text/plain": [
       "projectq simulator with 2 qubits (little endian).\n",
       "Current quantum state:\n",
       "1¦00⟩"
      ]
     },
     "execution_count": 14,
     "metadata": {},
     "output_type": "execute_result"
    }
   ],
   "source": [
    "from mindquantum.simulator import Simulator\n",
    "\n",
    "sim = Simulator('projectq', 2)     #声明一个两比特的projectq模拟器\n",
    "sim                                #展示模拟器状态"
   ]
  },
  {
   "cell_type": "markdown",
   "metadata": {},
   "source": [
    "在MindQuantum中，我们可以在`mindquantum.simulator`模块导入模拟器。`Simulator`类可以接受三个参数：\n",
    "\n",
    "- `backend`：所用到的模拟器名称，目前`mindquantum`支持`projectq`作为后端进行模拟。\n",
    "- `n_qbuits`：模拟器所用到的比特数，也就是这里的2。\n",
    "- `seed`：模拟器在运行随机性相关算法时的随机种子，默认为一个随机数，可以不用提供。\n",
    "\n",
    "通过模拟器的输出结果我们可以发现，这是一个`projectq`的2比特模拟器，并且是little endian的。这里little endian的意思是，整个模拟器中，我们都是将比特序号小的比特放在量子态矢量的右边。接下来，输出还说明了模拟器当前所处的量子态是多少，且在模拟器初始化后，当前的量子态默认处于零态。注意，量子模拟器始终会维护一个内部的量子态，当我们作用量子门或者量子线路到模拟器上时，这个量子态会随即发生改变，而当我们只是想获取关于这个量子态的一些信息时，这个量子态则不会改变。这里就涉及到对量子模拟器的两类操作：\n",
    "\n",
    "- 会改变量子态的操作，通常以`apply`开头，主要有如下几个\n",
    "    - `apply_gate`: 作用一个量之门到模拟器上\n",
    "    - `apply_circuit`: 作用一个量子线路到模拟器上\n",
    "    - `apply_hamiltonian`: 将一个哈密顿量作用到模拟器上，注意，此后模拟器的量子态将不再是一个真的量子态\n",
    "    - `set_qs`: 直接设置模拟器的当前量子态\n",
    "    - `reset`: 重置模拟器的状态为0态\n",
    "- 不会改变量子态的操作，通常以`get`开头，主要有如下几个\n",
    "    - `get_qs`: 获取模拟器的当前量子态\n",
    "    - `get_expectation`: 计算模拟器当前量子态关于某个观察量的期望值\n",
    "    - `get_expectation_with_grad`: 跟上一个接口类似，只不过这个方法还会计算期望值关于参数化量子线路的梯度\n",
    "    - `sampling`: 在当前量子态下，对给定的量子线路进行采用\n",
    "\n",
    "下面我们简单调用一下这些接口\n",
    "\n",
    "## 作用量子门和量子线路"
   ]
  },
  {
   "cell_type": "code",
   "execution_count": 15,
   "metadata": {},
   "outputs": [
    {
     "data": {
      "text/plain": [
       "projectq simulator with 2 qubits (little endian).\n",
       "Current quantum state:\n",
       "√2/2¦00⟩\n",
       "√2/2¦01⟩"
      ]
     },
     "execution_count": 15,
     "metadata": {},
     "output_type": "execute_result"
    }
   ],
   "source": [
    "sim = Simulator('projectq', 2)   #声明一个2比特的projectq模拟器\n",
    "sim.apply_gate(H.on(0))          #作用一个Hadamard门到0号比特上\n",
    "sim                              #输出量子模拟器的信息"
   ]
  },
  {
   "cell_type": "markdown",
   "metadata": {},
   "source": [
    "上面我们在量子模拟器的初态上作用了一个Hadamard门，并输出了演化过后的量子态。接下来我们生成一个参数化量子线路，并将其作用到当前的量子态上。"
   ]
  },
  {
   "cell_type": "code",
   "execution_count": 16,
   "metadata": {},
   "outputs": [
    {
     "data": {
      "image/svg+xml": "<div class=\"nb-html-output output_area\"><svg xmlns=\"http://www.w3.org/2000/svg\" width=\"156.8\" height=\"140\" xmlns:xlink=\"http://www.w3.org/1999/xlink\">\n<rect x=\"0\" y=\"0\" width=\"156.8\" height=\"140\" fill=\"#ffffff\" />\n<text x=\"20.0\" y=\"40.0\" font-size=\"16px\" dominant-baseline=\"middle\" text-anchor=\"start\" font-family=\"Arial\" font-weight=\"normal\" fill=\"#252b3a\" >\nq0:\n </text>\n<text x=\"20.0\" y=\"100.0\" font-size=\"16px\" dominant-baseline=\"middle\" text-anchor=\"start\" font-family=\"Arial\" font-weight=\"normal\" fill=\"#252b3a\" >\nq1:\n </text>\n<line x1=\"48.8\" x2=\"136.8\" y1=\"40.0\" y2=\"40.0\" stroke=\"#adb0b8\" stroke-width=\"1\" />\n<line x1=\"48.8\" x2=\"136.8\" y1=\"100.0\" y2=\"100.0\" stroke=\"#adb0b8\" stroke-width=\"1\" />\n\n<rect x=\"72.8\" y=\"80.0\" width=\"40.0\" height=\"40\" rx=\"4\" ry=\"4\" stroke=\"#ffffff\" stroke-width=\"0\" fill=\"#5e7ce0\" fill-opacity=\"1\" />\n<text x=\"92.8\" y=\"100.0\" font-size=\"20px\" dominant-baseline=\"middle\" text-anchor=\"middle\" font-family=\"Arial\" font-weight=\"normal\" fill=\"#ffffff\" >\nH\n </text>\n\n\n<rect x=\"72.8\" y=\"20.0\" width=\"40.0\" height=\"40\" rx=\"4\" ry=\"4\" stroke=\"#ffffff\" stroke-width=\"0\" fill=\"#fac209\" fill-opacity=\"1\" />\n<text x=\"92.8\" y=\"36.0\" font-size=\"20px\" dominant-baseline=\"middle\" text-anchor=\"middle\" font-family=\"Arial\" font-weight=\"normal\" fill=\"#ffffff\" >\nRY\n </text>\n<text x=\"92.8\" y=\"52.0\" font-size=\"14.0px\" dominant-baseline=\"middle\" text-anchor=\"middle\" font-family=\"Arial\" font-weight=\"normal\" fill=\"#ffffff\" >\na\n </text>\n\n</svg></div>",
      "text/plain": [
       "<mindquantum.io.display.circuit_svg_drawer.SVGCircuit at 0x238408d0490>"
      ]
     },
     "execution_count": 16,
     "metadata": {},
     "output_type": "execute_result"
    }
   ],
   "source": [
    "circ = Circuit()        #声明一个空的量子线路\n",
    "circ += H.on(1)         #向其中添加一个hadamard门，并作用到1号比特上\n",
    "circ += RY('a').on(0)   #向其中添加一个参数化的RY门，并作用到0号比特上\n",
    "circ.svg()              #绘制SVG格式的量子线路图片"
   ]
  },
  {
   "cell_type": "code",
   "execution_count": 17,
   "metadata": {},
   "outputs": [
    {
     "data": {
      "text/plain": [
       "projectq simulator with 2 qubits (little endian).\n",
       "Current quantum state:\n",
       "0.11851349145283657¦00⟩\n",
       "0.6971044056263442¦01⟩\n",
       "0.11851349145283657¦10⟩\n",
       "0.6971044056263442¦11⟩"
      ]
     },
     "execution_count": 17,
     "metadata": {},
     "output_type": "execute_result"
    }
   ],
   "source": [
    "sim.apply_circuit(circ, pr={'a': 1.234})  #作用一个量子线路，当线路是一个参数化量子线路时，我们还需要提供参数值。\n",
    "sim"
   ]
  },
  {
   "cell_type": "markdown",
   "metadata": {},
   "source": [
    "在上面的代码中，我们先生成了一个参数化量子线路`circ`，随后我们将其作用到量子模拟器上，并通过传入字典的方式，将参数`a`设置为`1.234`。最后输出量子模拟器演化出来的量子态。"
   ]
  },
  {
   "cell_type": "markdown",
   "metadata": {},
   "source": [
    "## 设置并获取模拟器状态\n",
    "\n",
    "我们使用`get_qs(ket=False)`查看当前模拟器的状态，\n",
    "参数ket是一个bool类型的数，它决定了当前模拟器的状态是否以ket的形式返回，ket=False时是以numpy.ndarray形式，ket=True时是以ket形式。默认ket=False。"
   ]
  },
  {
   "cell_type": "code",
   "execution_count": 18,
   "metadata": {},
   "outputs": [
    {
     "name": "stdout",
     "output_type": "stream",
     "text": [
      "[0.11851349+0.j 0.69710441+0.j 0.11851349+0.j 0.69710441+0.j]\n"
     ]
    }
   ],
   "source": [
    "print(sim.get_qs())     #查看模拟器状态,以numpy.ndarray形式返回结果\n"
   ]
  },
  {
   "cell_type": "code",
   "execution_count": 19,
   "metadata": {},
   "outputs": [
    {
     "name": "stdout",
     "output_type": "stream",
     "text": [
      "0.11851349145283657¦00⟩\n",
      "0.6971044056263442¦01⟩\n",
      "0.11851349145283657¦10⟩\n",
      "0.6971044056263442¦11⟩\n"
     ]
    }
   ],
   "source": [
    "print(sim.get_qs(True)) #查看模拟器状态,以ket形式返回结果"
   ]
  },
  {
   "cell_type": "markdown",
   "metadata": {},
   "source": [
    "在实际写代码过程中，我们常常需要将模拟器指定一个初始态开始演化，这个操作可以使用`set_qs()`实现。\n",
    "\n",
    "例如，我们希望模拟器状态为\n",
    "\n",
    "$$\n",
    "\\frac{\\sqrt{3}}{3}|00⟩+\\frac{\\sqrt{6}}{3}|11⟩\n",
    "$$\n",
    "\n",
    "第一步：我们计算出目标状态的向量形式：\n",
    "\n",
    "$$\n",
    "\\frac{\\sqrt{3}}{3}|00⟩+\\frac{\\sqrt{6}}{3}|11⟩ =\\frac{\\sqrt{3}}{3}\\times\n",
    "\\left(\n",
    "\\begin{array}{l}\n",
    "1\\\\\n",
    "0\n",
    "\\end{array}\n",
    "\\right)\n",
    "\\otimes\n",
    "\\left(\n",
    "\\begin{array}{l}\n",
    "1\\\\\n",
    "0\n",
    "\\end{array}\n",
    "\\right)+\n",
    "\\frac{\\sqrt{6}}{3}\\times\n",
    "\\left(\n",
    "\\begin{array}{l}\n",
    "0\\\\\n",
    "1\n",
    "\\end{array}\n",
    "\\right)\\otimes\n",
    "\\left(\n",
    "\\begin{array}{l}\n",
    "0\\\\\n",
    "1\n",
    "\\end{array}\n",
    "\\right)= \\frac{\\sqrt{3}}{3}\\times\n",
    "\\left(\n",
    "\\begin{array}{l}\n",
    "1\\\\\n",
    "0\\\\\n",
    "0\\\\\n",
    "0\n",
    "\\end{array}\n",
    "\\right)+\n",
    "\\frac{\\sqrt{6}}{3}\\times\n",
    "\\left(\n",
    "\\begin{array}{l}\n",
    "0\\\\\n",
    "0\\\\\n",
    "0\\\\\n",
    "1\n",
    "\\end{array}\n",
    "\\right)=\n",
    "\\left(\n",
    "\\begin{array}{l}\n",
    "\\frac{\\sqrt{3}}{3}\\\\\n",
    "0\\\\\n",
    "0\\\\\n",
    "\\frac{\\sqrt{6}}{3}\n",
    "\\end{array}\n",
    "\\right)\n",
    "$$\n",
    "\n",
    "第二步：我们将这个向量使用`set_qs()`赋值给模拟器，让其作为模拟器的状态："
   ]
  },
  {
   "cell_type": "code",
   "execution_count": 20,
   "metadata": {},
   "outputs": [
    {
     "name": "stdout",
     "output_type": "stream",
     "text": [
      "0.5773502691896258¦00⟩\n",
      "0.816496580927726¦11⟩\n"
     ]
    }
   ],
   "source": [
    "sim.set_qs(np.array([3**0.5/3, 0, 0, 6**0.5/3]))    #设置模拟器状态\n",
    "print(sim.get_qs(True))                             #查看模拟器状态"
   ]
  },
  {
   "cell_type": "markdown",
   "metadata": {},
   "source": [
    "通过`get_qs()`查看模拟器状态可以发现，当前模拟器状态即为我们希望设置的$\\frac{\\sqrt{3}}{3}|00⟩+\\frac{\\sqrt{6}}{3}|11⟩$。\n",
    "\n",
    "在实际编程过程中，我们常常需要多次模拟电路，通过多开模拟器的方式会导致内存占用非常大，我们可以通过现有模拟器复位的方式来复用模拟器，从而减少内存消耗。\n",
    "\n",
    "我们使用`reset()`来复位模拟器："
   ]
  },
  {
   "cell_type": "code",
   "execution_count": 21,
   "metadata": {},
   "outputs": [
    {
     "name": "stdout",
     "output_type": "stream",
     "text": [
      "[1.+0.j 0.+0.j 0.+0.j 0.+0.j]\n"
     ]
    }
   ],
   "source": [
    "sim.reset()         #复位模拟器\n",
    "print(sim.get_qs()) #查看模拟器状态"
   ]
  },
  {
   "cell_type": "markdown",
   "metadata": {},
   "source": [
    "可以发现，当前模拟器被复位成了初始的$1|00⟩$态，相当于一个全新的模拟器。\n",
    "\n",
    "## 量子测量\n",
    "\n",
    "在量子线路设计时，我们最终需要通过测量操作获得结果，我们常见的测量有Pauli测量、计算基测量、投影测量等等，此处我们以Pauli-Z测量为例展示。\n",
    "\n",
    "在学习Pauli-Z测量之前，我们先对量子计算基测量有一个简单认识：假设有一个n个量子比特的态，我们对它执行n比特计算基测量，测量后，如果结果为$00 \\cdots0$，表明该n量子比特系统的量子状态已塌缩到$|00 \\cdots0⟩$态；类似地，如果测量其中一个量子比特，那么它表示的$2^n$种情况就会被排除掉一半，即在两个各占一半的空间中，测量操作将量子态投影到其中一个空间，表明该n量子比特系统的量子状态中一个子系统塌缩了。以双量子比特系统为例，假设系统处于状态\n",
    "\n",
    "$$\n",
    "\\left( \\begin{array}{l} \\alpha_{00}\\\\ \\alpha_{01}\\\\ \\alpha_{10}\\\\ \\alpha_{11} \\end{array}\\right)\n",
    "$$\n",
    "\n",
    "我们对其作用计算基测量，会得出00的概率为$|\\alpha_{00}|^2$，01的概率为$|\\alpha_{01}|^2$，10的概率为$|\\alpha_{10}|^2$，11的概率为$|\\alpha_{11}|^2$。如果测量结果为00，则表明该双量子比特系统的量子状态已塌缩到\n",
    "\n",
    "$$\n",
    "|00⟩=\\left( \\begin{array}{l} 1\\\\ 0\\\\ 0\\\\ 0 \\end{array}\\right)\n",
    "$$\n",
    "\n",
    "类似地，如果测量双量子比特量子状态的第一个量子比特，则得到0的概率为$|\\alpha_{00}|^2+|\\alpha_{01}|^2$，得到1的概率为$|\\alpha_{10}|^2+|\\alpha_{11}|^2$。\n",
    "\n",
    "通过对计算基测量的学习，我们可以直观认识到，在多量子比特态的其中一个比特上做测量，本质是将量子态投影到一个子空间中。为了简洁的区分出这两个子空间，我们利用线性代数知识知道，可以通过恰好有两个唯一特征值的矩阵来描述两个正交子空间。\n",
    "\n",
    "接下来我们学习Pauli-Z测量，我们考虑Z算子：\n",
    "\n",
    "$$\n",
    "Z=\n",
    "\\left(\n",
    "    \\begin{array}{l}\n",
    "    1&0\\\\\n",
    "    0&-1\n",
    "    \\end{array}\n",
    "\\right)\n",
    "$$\n",
    "\n",
    "可以看出，Z有两个特征值+1，-1，对应的特征向量分别为：|0⟩和|1⟩。因此，如果在量子比特上作用Z门后测量结果为0（对应状态为|0⟩），我们可得出该量子比特的状态是在Z算子的+1特征子空间$V_{+1}$中，相似地，如果测量结果为1可得出该量子比特的状态是在Z算子的-1特征子空间$V_{-1}$中。这即为Pauli-Z测量，仔细阅读的读者可以发现，这其实就是计算基测量。\n",
    "\n",
    "最后，我们认识一下投影测量(projective measuremen)，投影测量由一个可观测量（observable）$A$来描述，可观测量$A$是一个待观测系统的状态空间上的自伴算子，满足$A=A^{\\dagger}$。可观测量A可以写成谱分解的形式$A=\\Sigma_{i}\\lambda_{i}P_i$.\n",
    "\n",
    "这里的$P_i$为在$A$的特征值$\\lambda_i$对应特征空间上的投影。\n",
    "\n",
    "在对状态$|\\psi⟩$测量之后，得到结果$i$的概率为$p_i=p(\\lambda_i)=⟨\\psi|P_i|\\psi⟩$.\n",
    "\n",
    "投影测量一个重要的特征就是很容易计算投影测量的平均值$E(A)$。\n",
    "\n",
    "$$\n",
    "\\begin{align*}\n",
    "    E(A) &=\\Sigma_i \\lambda_i p_i\\\\\n",
    "         &=\\Sigma_i \\lambda_i⟨\\psi|P_i|\\psi⟩\\\\\n",
    "         &=⟨\\psi|(\\Sigma_i\\lambda_i P_i)|\\psi⟩\\\\\n",
    "         &=⟨\\psi|A|\\psi⟩\n",
    "\\end{align*}\n",
    "$$\n",
    "\n",
    "投影测量的好处是，当测量算子具有酉变换性质时，投影测量和一般测量等价。\n",
    "\n",
    "`get_expectation(hamiltonian)`是MindQuantum提供的投影测量API，它可以计算出模拟器当前量子态关于某个可观测量$H$的期望值：$E=⟨\\psi|H|\\psi⟩=0 \\times p(0) + 1 \\times p(1)$，其中$p(0),p(1)$分别表示测量结果为0，1的概率。我们常常称$H$为哈密顿量（Hamitonian），利用这个API，我们可以通过构造$H$来获得相应的测量结果。\n",
    "\n",
    "例如，我们希望对处于$\\frac{\\sqrt{2}}{2}|00⟩+\\frac{\\sqrt{2}}{2}|11⟩$态的系统上的q1比特上作用一个Pauli-Z测量，首先我们将模拟器置位："
   ]
  },
  {
   "cell_type": "code",
   "execution_count": 22,
   "metadata": {},
   "outputs": [
    {
     "name": "stdout",
     "output_type": "stream",
     "text": [
      "[0.70710678+0.j 0.        +0.j 0.        +0.j 0.70710678+0.j]\n"
     ]
    }
   ],
   "source": [
    "sim.set_qs(np.array([2**0.5 / 2, 0, 0, 2**0.5 / 2]))  # 设置模拟器状态\n",
    "print(sim.get_qs())\n"
   ]
  },
  {
   "cell_type": "markdown",
   "metadata": {},
   "source": [
    "然后我们构造出在q1上做Pauli-Z测量对应的哈密顿量hams:"
   ]
  },
  {
   "cell_type": "code",
   "execution_count": 23,
   "metadata": {},
   "outputs": [],
   "source": [
    "from mindquantum import Hamiltonian                     # 引入哈密顿量定义模块\n",
    "from mindquantum.core.operators import QubitOperator    # 引入稀疏算子定义模块\n",
    "\n",
    "hams = Hamiltonian(QubitOperator('Z1'))                 # 构建在q1上作Pauli-Z测量的哈密顿量"
   ]
  },
  {
   "cell_type": "markdown",
   "metadata": {},
   "source": [
    "为了直观认识到测量操作，我们先手动计算出模拟器当前量子态在q1上做Pauli-Z测量的期望值：\n",
    "\n",
    "$$\n",
    "\\begin{align*}\n",
    "E&=⟨\\psi|H|\\psi⟩\\\\&=\n",
    "\\left(\n",
    "    \\begin{array}{l}\n",
    "    \\frac{\\sqrt{2}}{2}& 0& 0& \\frac{\\sqrt{2}}{2}\n",
    "    \\end{array}\n",
    "\\right) \\times\n",
    "(Z \\otimes I) \\times\n",
    "\\left(\n",
    "    \\begin{array}{l}\n",
    "    \\frac{\\sqrt{2}}{2}\\\\\n",
    "    0\\\\\n",
    "    0\\\\\n",
    "    \\frac{\\sqrt{2}}{2}\n",
    "    \\end{array}\n",
    "\\right) \\\\&=\n",
    "\\left(\n",
    "    \\begin{array}{l}\n",
    "    \\frac{\\sqrt{2}}{2}& 0& 0& \\frac{\\sqrt{2}}{2}\n",
    "    \\end{array}\n",
    "\\right) \\times\n",
    "\\left(\n",
    "    \\begin{array}{l}\n",
    "    1&0\\\\\n",
    "    0&-1\\\\\n",
    "    \\end{array}\n",
    "\\right) \\otimes\n",
    "\\left(\n",
    "\\begin{array}{l}\n",
    "    1&0\\\\\n",
    "    0&1\\\\\n",
    "\\end{array}\n",
    "\\right)\n",
    "\\times\n",
    "\\left(\n",
    "    \\begin{array}{l}\n",
    "    \\frac{\\sqrt{2}}{2}\\\\\n",
    "    0\\\\\n",
    "    0\\\\\n",
    "    \\frac{\\sqrt{2}}{2}\n",
    "    \\end{array}\n",
    "\\right) \\\\&=\n",
    "\\left(\n",
    "    \\begin{array}{l}\n",
    "    \\frac{\\sqrt{2}}{2}& 0& 0& \\frac{\\sqrt{2}}{2}\n",
    "    \\end{array}\n",
    "\\right) \\times\n",
    "\\left(\n",
    "    \\begin{array}{l}\n",
    "    1&0&0&0\\\\\n",
    "    0&1&0&0\\\\\n",
    "    0&0&-1&0\\\\\n",
    "    0&0&0&-1\n",
    "    \\end{array}\n",
    "\\right)\n",
    "\\times\n",
    "\\left(\n",
    "    \\begin{array}{l}\n",
    "    \\frac{\\sqrt{2}}{2}\\\\\n",
    "    0\\\\\n",
    "    0\\\\\n",
    "    \\frac{\\sqrt{2}}{2}\n",
    "    \\end{array}\n",
    "\\right) \\\\&=\n",
    "0\n",
    "\\end{align*}\n",
    "$$"
   ]
  },
  {
   "cell_type": "code",
   "execution_count": 24,
   "metadata": {},
   "outputs": [
    {
     "data": {
      "text/plain": [
       "0j"
      ]
     },
     "execution_count": 24,
     "metadata": {},
     "output_type": "execute_result"
    }
   ],
   "source": [
    "sim.get_expectation(hams)  # 计算出模拟器当前量子态关于hams的期望值"
   ]
  },
  {
   "cell_type": "markdown",
   "metadata": {},
   "source": [
    "可以看到，手动计算和使用`get_expectation(hamiltonian)`计算出的结果相同，符合预期。"
   ]
  },
  {
   "cell_type": "markdown",
   "metadata": {},
   "source": [
    "## 量子线路采样\n",
    "\n",
    "线路采样是指对量子线路执行多次模拟测量，统计测量出各种结果出现的频次。采样不会改变量子线路中的状态。\n",
    "\n",
    "`sampling(circuit, pr=None, shots=1, seed=None)`是`MindQuantum`中提供的对模拟器进行线路采样方法，它接受四个参数：\n",
    "\n",
    "- `circuit (Circuit)`：希望进行采样的量子线路，注意，该线路中必须包含至少一个测量操作（即采样点）。\n",
    "- `pr (Union[None, dict, ParameterResolver])`：parameter resolver，当 `circuit`是含参线路时，需要给出参数的值。\n",
    "- `shots (int)`：采样的次数，默认为1。\n",
    "- `seed`：采样时的随机种子，默认为一个随机数，可以不用提供。"
   ]
  },
  {
   "cell_type": "code",
   "execution_count": 25,
   "metadata": {},
   "outputs": [
    {
     "data": {
      "image/svg+xml": "<div class=\"nb-html-output output_area\"><svg xmlns=\"http://www.w3.org/2000/svg\" width=\"276.8\" height=\"140\" xmlns:xlink=\"http://www.w3.org/1999/xlink\">\n<rect x=\"0\" y=\"0\" width=\"276.8\" height=\"140\" fill=\"#ffffff\" />\n<text x=\"20.0\" y=\"40.0\" font-size=\"16px\" dominant-baseline=\"middle\" text-anchor=\"start\" font-family=\"Arial\" font-weight=\"normal\" fill=\"#252b3a\" >\nq0:\n </text>\n<text x=\"20.0\" y=\"100.0\" font-size=\"16px\" dominant-baseline=\"middle\" text-anchor=\"start\" font-family=\"Arial\" font-weight=\"normal\" fill=\"#252b3a\" >\nq1:\n </text>\n<line x1=\"48.8\" x2=\"256.8\" y1=\"40.0\" y2=\"40.0\" stroke=\"#adb0b8\" stroke-width=\"1\" />\n<line x1=\"48.8\" x2=\"256.8\" y1=\"100.0\" y2=\"100.0\" stroke=\"#adb0b8\" stroke-width=\"1\" />\n\n<rect x=\"72.8\" y=\"20.0\" width=\"40.0\" height=\"40\" rx=\"4\" ry=\"4\" stroke=\"#ffffff\" stroke-width=\"0\" fill=\"#5e7ce0\" fill-opacity=\"1\" />\n<text x=\"92.8\" y=\"40.0\" font-size=\"20px\" dominant-baseline=\"middle\" text-anchor=\"middle\" font-family=\"Arial\" font-weight=\"normal\" fill=\"#ffffff\" >\nH\n </text>\n\n<circle cx=\"152.8\" cy=\"40.0\" r=\"4\" fill=\"#16acff\" />\n<line x1=\"152.8\" x2=\"152.8\" y1=\"40.0\" y2=\"100.0\" stroke=\"#16acff\" stroke-width=\"3\" />\n<rect x=\"132.8\" y=\"80.0\" width=\"40\" height=\"40\" rx=\"4\" ry=\"4\" stroke=\"#ffffff\" stroke-width=\"0\" fill=\"#16acff\" fill-opacity=\"1\" />\n<line x1=\"138.8\" x2=\"166.8\" y1=\"100.0\" y2=\"100.0\" stroke=\"#ffffff\" stroke-width=\"4\" />\n<line x1=\"152.8\" x2=\"152.8\" y1=\"86.0\" y2=\"114.0\" stroke=\"#ffffff\" stroke-width=\"4\" />\n<rect x=\"192.8\" y=\"20.0\" width=\"40\" height=\"40\" rx=\"4\" ry=\"4\" stroke=\"#ffffff\" stroke-width=\"0\" fill=\"#ff7272\" fill-opacity=\"1\" />\n<circle cx=\"212.8\" cy=\"50.4\" r=\"1.6\" fill=\"#ffffff\" />\n<path d=\"M 200.0 50.4 A 12.8 12.8 0 0 1 225.60000000000002 50.4\" stroke=\"#ffffff\" stroke-width=\"2.4000000000000004\" fill-opacity=\"0\" />\n<path d=\"M 216.90184831748593 33.93539030917347 L 225.21569219381655 29.135390309173467 L 225.21569219381655 38.73539030917347 L 221.8901546432843 36.815390309173466 L 214.04707658144957 50.4 L 212.38430780618347 49.44 L 220.2273858680182 35.85539030917347 Z\" fill=\"#ffffff\" />\n<rect x=\"192.8\" y=\"80.0\" width=\"40\" height=\"40\" rx=\"4\" ry=\"4\" stroke=\"#ffffff\" stroke-width=\"0\" fill=\"#ff7272\" fill-opacity=\"1\" />\n<circle cx=\"212.8\" cy=\"110.4\" r=\"1.6\" fill=\"#ffffff\" />\n<path d=\"M 200.0 110.4 A 12.8 12.8 0 0 1 225.60000000000002 110.4\" stroke=\"#ffffff\" stroke-width=\"2.4000000000000004\" fill-opacity=\"0\" />\n<path d=\"M 216.90184831748593 93.93539030917347 L 225.21569219381655 89.13539030917347 L 225.21569219381655 98.73539030917347 L 221.8901546432843 96.81539030917347 L 214.04707658144957 110.4 L 212.38430780618347 109.44 L 220.2273858680182 95.85539030917347 Z\" fill=\"#ffffff\" />\n</svg></div>",
      "text/plain": [
       "<mindquantum.io.display.circuit_svg_drawer.SVGCircuit at 0x238408e2a00>"
      ]
     },
     "execution_count": 25,
     "metadata": {},
     "output_type": "execute_result"
    }
   ],
   "source": [
    "# 不含参线路采样：\n",
    "from mindquantum import Measure # 引入测量门\n",
    "\n",
    "circ = Circuit()                # 初始化量子线路\n",
    "circ += H.on(0)                 # H门作用在第0位量子比特\n",
    "circ += X.on(1, 0)              # X门作用在第1位量子比特且受第0位量子比特控制\n",
    "circ += Measure('q0').on(0)      # 在0号量子比特作用一个测量，并将该测量命名为'q0'\n",
    "circ += Measure('q1').on(1)     # 在1号量子比特作用一个测量，并将该测量命名为'q1'\n",
    "circ.svg()                      # 绘制SVG格式的量子线路图片\n"
   ]
  },
  {
   "cell_type": "code",
   "execution_count": 26,
   "metadata": {},
   "outputs": [
    {
     "data": {
      "text/html": [
       "<pre style=\"white-space:pre;overflow-x:auto;line-height:normal;font-family:Menlo,'DejaVu Sans Mono',consolas,'Courier New',monospace\"></pre>\n"
      ],
      "text/plain": []
     },
     "metadata": {},
     "output_type": "display_data"
    },
    {
     "data": {
      "text/html": [
       "<pre style=\"white-space: pre;\"><span style=\"color: #808000; text-decoration-color: #808000\">shots: </span><span style=\"color: #008080; text-decoration-color: #008080; font-weight: bold\">1000</span>\n",
       "<span style=\"color: #808000; text-decoration-color: #808000\">Keys: q1 q0│</span><span style=\"color: #008080; text-decoration-color: #008080; font-weight: bold\">0.00</span><span style=\"color: #808000; text-decoration-color: #808000\">   </span><span style=\"color: #008080; text-decoration-color: #008080; font-weight: bold\">0.125</span><span style=\"color: #808000; text-decoration-color: #808000\">       </span><span style=\"color: #008080; text-decoration-color: #008080; font-weight: bold\">0.251</span><span style=\"color: #808000; text-decoration-color: #808000\">       </span><span style=\"color: #008080; text-decoration-color: #008080; font-weight: bold\">0.376</span><span style=\"color: #808000; text-decoration-color: #808000\">       </span><span style=\"color: #008080; text-decoration-color: #008080; font-weight: bold\">0.501</span><span style=\"color: #808000; text-decoration-color: #808000\">       </span><span style=\"color: #008080; text-decoration-color: #008080; font-weight: bold\">0.626</span>\n",
       "<span style=\"color: #808000; text-decoration-color: #808000\">───────────┼───────────┴───────────┴───────────┴───────────┴───────────┴</span>\n",
       "<span style=\"color: #808000; text-decoration-color: #808000\">         </span><span style=\"color: #008080; text-decoration-color: #008080; font-weight: bold\">00</span><span style=\"color: #808000; text-decoration-color: #808000\">│▓▓▓▓▓▓▓▓▓▓▓▓▓▓▓▓▓▓▓▓▓▓▓▓▓▓▓▓▓▓▓▓▓▓▓▓▓▓▓▓▓▓▓▓▓▓▓▓</span>\n",
       "<span style=\"color: #808000; text-decoration-color: #808000\">           │</span>\n",
       "<span style=\"color: #808000; text-decoration-color: #808000\">         </span><span style=\"color: #008080; text-decoration-color: #008080; font-weight: bold\">11</span><span style=\"color: #808000; text-decoration-color: #808000\">│▒▒▒▒▒▒▒▒▒▒▒▒▒▒▒▒▒▒▒▒▒▒▒▒▒▒▒▒▒▒▒▒▒▒▒▒▒▒▒▒▒▒▒▒▒▒▒▒</span>\n",
       "<span style=\"color: #808000; text-decoration-color: #808000\">           │</span>\n",
       "<span style=\"color: #808000; text-decoration-color: #808000; font-weight: bold\">{</span><span style=\"color: #008000; text-decoration-color: #008000\">&#x27;00&#x27;</span><span style=\"color: #808000; text-decoration-color: #808000\">: </span><span style=\"color: #008080; text-decoration-color: #008080; font-weight: bold\">501</span><span style=\"color: #808000; text-decoration-color: #808000\">, </span><span style=\"color: #008000; text-decoration-color: #008000\">&#x27;11&#x27;</span><span style=\"color: #808000; text-decoration-color: #808000\">: </span><span style=\"color: #008080; text-decoration-color: #008080; font-weight: bold\">499</span><span style=\"color: #808000; text-decoration-color: #808000; font-weight: bold\">}</span>\n",
       "</pre>\n"
      ],
      "text/plain": [
       "shots: 1000\n",
       "Keys: q1 q0│0.00   0.125       0.251       0.376       0.501       0.626\n",
       "───────────┼───────────┴───────────┴───────────┴───────────┴───────────┴\n",
       "         00│▓▓▓▓▓▓▓▓▓▓▓▓▓▓▓▓▓▓▓▓▓▓▓▓▓▓▓▓▓▓▓▓▓▓▓▓▓▓▓▓▓▓▓▓▓▓▓▓\n",
       "           │\n",
       "         11│▒▒▒▒▒▒▒▒▒▒▒▒▒▒▒▒▒▒▒▒▒▒▒▒▒▒▒▒▒▒▒▒▒▒▒▒▒▒▒▒▒▒▒▒▒▒▒▒\n",
       "           │\n",
       "{'00': 501, '11': 499}"
      ]
     },
     "execution_count": 26,
     "metadata": {},
     "output_type": "execute_result"
    }
   ],
   "source": [
    "sim.reset()\n",
    "result = sim.sampling(circ, shots=1000) # 对上面定义的线路采样1000次\n",
    "result\n"
   ]
  },
  {
   "cell_type": "markdown",
   "metadata": {},
   "source": [
    "我们可以看到，采样结果中'00'出现了499次，'11'出现了501次。我们搭建的线路实际上制备出了一个贝尔态$\\frac{\\sqrt{2}}{2}|00⟩+\\frac{\\sqrt{2}}{2}|11⟩$。直观上，我们可以看到对该状态进行测量得到'00'的概率为$\\frac{1}{2}$,得到'11'的概率为$\\frac{1}{2}$，采样结果符合概率，细微的误差是由模拟器噪声导致。"
   ]
  },
  {
   "cell_type": "code",
   "execution_count": 27,
   "metadata": {},
   "outputs": [
    {
     "data": {
      "image/svg+xml": "<div class=\"nb-html-output output_area\"><svg xmlns=\"http://www.w3.org/2000/svg\" width=\"376.8\" height=\"140\" xmlns:xlink=\"http://www.w3.org/1999/xlink\">\n<rect x=\"0\" y=\"0\" width=\"376.8\" height=\"140\" fill=\"#ffffff\" />\n<text x=\"20.0\" y=\"40.0\" font-size=\"16px\" dominant-baseline=\"middle\" text-anchor=\"start\" font-family=\"Arial\" font-weight=\"normal\" fill=\"#252b3a\" >\nq0:\n </text>\n<text x=\"20.0\" y=\"100.0\" font-size=\"16px\" dominant-baseline=\"middle\" text-anchor=\"start\" font-family=\"Arial\" font-weight=\"normal\" fill=\"#252b3a\" >\nq1:\n </text>\n<line x1=\"48.8\" x2=\"356.8\" y1=\"40.0\" y2=\"40.0\" stroke=\"#adb0b8\" stroke-width=\"1\" />\n<line x1=\"48.8\" x2=\"356.8\" y1=\"100.0\" y2=\"100.0\" stroke=\"#adb0b8\" stroke-width=\"1\" />\n\n<rect x=\"72.8\" y=\"20.0\" width=\"40.0\" height=\"40\" rx=\"4\" ry=\"4\" stroke=\"#ffffff\" stroke-width=\"0\" fill=\"#5e7ce0\" fill-opacity=\"1\" />\n<text x=\"92.8\" y=\"40.0\" font-size=\"20px\" dominant-baseline=\"middle\" text-anchor=\"middle\" font-family=\"Arial\" font-weight=\"normal\" fill=\"#ffffff\" >\nH\n </text>\n\n<circle cx=\"152.8\" cy=\"40.0\" r=\"4\" fill=\"#16acff\" />\n<line x1=\"152.8\" x2=\"152.8\" y1=\"40.0\" y2=\"100.0\" stroke=\"#16acff\" stroke-width=\"3\" />\n<rect x=\"132.8\" y=\"80.0\" width=\"40\" height=\"40\" rx=\"4\" ry=\"4\" stroke=\"#ffffff\" stroke-width=\"0\" fill=\"#16acff\" fill-opacity=\"1\" />\n<line x1=\"138.8\" x2=\"166.8\" y1=\"100.0\" y2=\"100.0\" stroke=\"#ffffff\" stroke-width=\"4\" />\n<line x1=\"152.8\" x2=\"152.8\" y1=\"86.0\" y2=\"114.0\" stroke=\"#ffffff\" stroke-width=\"4\" />\n\n<rect x=\"192.8\" y=\"80.0\" width=\"80.0\" height=\"40\" rx=\"4\" ry=\"4\" stroke=\"#ffffff\" stroke-width=\"0\" fill=\"#fac209\" fill-opacity=\"1\" />\n<text x=\"232.8\" y=\"96.0\" font-size=\"20px\" dominant-baseline=\"middle\" text-anchor=\"middle\" font-family=\"Arial\" font-weight=\"normal\" fill=\"#ffffff\" >\nRY\n </text>\n<text x=\"232.8\" y=\"112.0\" font-size=\"14.0px\" dominant-baseline=\"middle\" text-anchor=\"middle\" font-family=\"Arial\" font-weight=\"normal\" fill=\"#ffffff\" >\ntheta\n </text>\n\n<rect x=\"192.8\" y=\"20.0\" width=\"40\" height=\"40\" rx=\"4\" ry=\"4\" stroke=\"#ffffff\" stroke-width=\"0\" fill=\"#ff7272\" fill-opacity=\"1\" />\n<circle cx=\"212.8\" cy=\"50.4\" r=\"1.6\" fill=\"#ffffff\" />\n<path d=\"M 200.0 50.4 A 12.8 12.8 0 0 1 225.60000000000002 50.4\" stroke=\"#ffffff\" stroke-width=\"2.4000000000000004\" fill-opacity=\"0\" />\n<path d=\"M 216.90184831748593 33.93539030917347 L 225.21569219381655 29.135390309173467 L 225.21569219381655 38.73539030917347 L 221.8901546432843 36.815390309173466 L 214.04707658144957 50.4 L 212.38430780618347 49.44 L 220.2273858680182 35.85539030917347 Z\" fill=\"#ffffff\" />\n<rect x=\"292.8\" y=\"80.0\" width=\"40\" height=\"40\" rx=\"4\" ry=\"4\" stroke=\"#ffffff\" stroke-width=\"0\" fill=\"#ff7272\" fill-opacity=\"1\" />\n<circle cx=\"312.8\" cy=\"110.4\" r=\"1.6\" fill=\"#ffffff\" />\n<path d=\"M 300.0 110.4 A 12.8 12.8 0 0 1 325.6 110.4\" stroke=\"#ffffff\" stroke-width=\"2.4000000000000004\" fill-opacity=\"0\" />\n<path d=\"M 316.9018483174859 93.93539030917347 L 325.21569219381655 89.13539030917347 L 325.21569219381655 98.73539030917347 L 321.8901546432843 96.81539030917347 L 314.0470765814496 110.4 L 312.3843078061835 109.44 L 320.2273858680182 95.85539030917347 Z\" fill=\"#ffffff\" />\n</svg></div>",
      "text/plain": [
       "<mindquantum.io.display.circuit_svg_drawer.SVGCircuit at 0x238408e2100>"
      ]
     },
     "execution_count": 27,
     "metadata": {},
     "output_type": "execute_result"
    }
   ],
   "source": [
    "# 含参线路采样：\n",
    "para_circ = Circuit()               # 初始化量子线路\n",
    "para_circ += H.on(0)                # H门作用在第0位量子比特\n",
    "para_circ += X.on(1, 0)             # X门作用在第1位量子比特且受第0位量子比特控制\n",
    "para_circ += RY('theta').on(1)      # RY(theta)门作用在第2位量子比特\n",
    "para_circ += Measure('0').on(0)     # 在0号量子比特作用一个测量，并将该测量命名为'q0'\n",
    "para_circ += Measure('q1').on(1)    # 在1号量子比特作用一个测量，并将该测量命名为'q1'\n",
    "para_circ.svg()                     # 绘制SVG格式的量子线路图片"
   ]
  },
  {
   "cell_type": "code",
   "execution_count": 28,
   "metadata": {},
   "outputs": [
    {
     "data": {
      "text/html": [
       "<pre style=\"white-space:pre;overflow-x:auto;line-height:normal;font-family:Menlo,'DejaVu Sans Mono',consolas,'Courier New',monospace\"></pre>\n"
      ],
      "text/plain": []
     },
     "metadata": {},
     "output_type": "display_data"
    },
    {
     "data": {
      "text/html": [
       "<pre style=\"white-space: pre;\"><span style=\"color: #808000; text-decoration-color: #808000\">shots: </span><span style=\"color: #008080; text-decoration-color: #008080; font-weight: bold\">1000</span>\n",
       "<span style=\"color: #808000; text-decoration-color: #808000\">Keys: q1 </span><span style=\"color: #008080; text-decoration-color: #008080; font-weight: bold\">0</span><span style=\"color: #808000; text-decoration-color: #808000\">│</span><span style=\"color: #008080; text-decoration-color: #008080; font-weight: bold\">0.00</span><span style=\"color: #808000; text-decoration-color: #808000\">   </span><span style=\"color: #008080; text-decoration-color: #008080; font-weight: bold\">0.128</span><span style=\"color: #808000; text-decoration-color: #808000\">       </span><span style=\"color: #008080; text-decoration-color: #008080; font-weight: bold\">0.255</span><span style=\"color: #808000; text-decoration-color: #808000\">       </span><span style=\"color: #008080; text-decoration-color: #008080; font-weight: bold\">0.383</span><span style=\"color: #808000; text-decoration-color: #808000\">       </span><span style=\"color: #008080; text-decoration-color: #008080; font-weight: bold\">0.511</span><span style=\"color: #808000; text-decoration-color: #808000\">       </span><span style=\"color: #008080; text-decoration-color: #008080; font-weight: bold\">0.639</span>\n",
       "<span style=\"color: #808000; text-decoration-color: #808000\">──────────┼───────────┴───────────┴───────────┴───────────┴───────────┴</span>\n",
       "<span style=\"color: #808000; text-decoration-color: #808000\">        </span><span style=\"color: #008080; text-decoration-color: #008080; font-weight: bold\">00</span><span style=\"color: #808000; text-decoration-color: #808000\">│▒▒▒▒▒▒▒▒▒▒▒▒▒▒▒▒▒▒▒▒▒▒▒▒▒▒▒▒▒▒▒▒▒▒▒▒▒▒▒▒▒▒▒▒▒▒</span>\n",
       "<span style=\"color: #808000; text-decoration-color: #808000\">          │</span>\n",
       "<span style=\"color: #808000; text-decoration-color: #808000\">        </span><span style=\"color: #008080; text-decoration-color: #008080; font-weight: bold\">11</span><span style=\"color: #808000; text-decoration-color: #808000\">│▓▓▓▓▓▓▓▓▓▓▓▓▓▓▓▓▓▓▓▓▓▓▓▓▓▓▓▓▓▓▓▓▓▓▓▓▓▓▓▓▓▓▓▓▓▓▓▓▓</span>\n",
       "<span style=\"color: #808000; text-decoration-color: #808000\">          │</span>\n",
       "<span style=\"color: #808000; text-decoration-color: #808000; font-weight: bold\">{</span><span style=\"color: #008000; text-decoration-color: #008000\">&#x27;00&#x27;</span><span style=\"color: #808000; text-decoration-color: #808000\">: </span><span style=\"color: #008080; text-decoration-color: #008080; font-weight: bold\">489</span><span style=\"color: #808000; text-decoration-color: #808000\">, </span><span style=\"color: #008000; text-decoration-color: #008000\">&#x27;11&#x27;</span><span style=\"color: #808000; text-decoration-color: #808000\">: </span><span style=\"color: #008080; text-decoration-color: #008080; font-weight: bold\">511</span><span style=\"color: #808000; text-decoration-color: #808000; font-weight: bold\">}</span>\n",
       "</pre>\n"
      ],
      "text/plain": [
       "shots: 1000\n",
       "Keys: q1 0│0.00   0.128       0.255       0.383       0.511       0.639\n",
       "──────────┼───────────┴───────────┴───────────┴───────────┴───────────┴\n",
       "        00│▒▒▒▒▒▒▒▒▒▒▒▒▒▒▒▒▒▒▒▒▒▒▒▒▒▒▒▒▒▒▒▒▒▒▒▒▒▒▒▒▒▒▒▒▒▒\n",
       "          │\n",
       "        11│▓▓▓▓▓▓▓▓▓▓▓▓▓▓▓▓▓▓▓▓▓▓▓▓▓▓▓▓▓▓▓▓▓▓▓▓▓▓▓▓▓▓▓▓▓▓▓▓▓\n",
       "          │\n",
       "{'00': 489, '11': 511}"
      ]
     },
     "execution_count": 28,
     "metadata": {},
     "output_type": "execute_result"
    }
   ],
   "source": [
    "sim.reset()\n",
    "result = sim.sampling(para_circ, {'theta': 0}, shots=1000)  # 将上面定义的线路参数'theta'赋值为0采样1000次\n",
    "result"
   ]
  },
  {
   "cell_type": "code",
   "execution_count": 29,
   "metadata": {},
   "outputs": [
    {
     "data": {
      "image/svg+xml": "<div class=\"nb-html-output output_area\"><svg xmlns=\"http://www.w3.org/2000/svg\" width=\"408.4\" height=\"147.0\" xmlns:xlink=\"http://www.w3.org/1999/xlink\">\n<rect x=\"0\" y=\"0\" width=\"408.4\" height=\"147.0\" fill=\"#ffffff\" />\n<text x=\"10\" y=\"17.0\" font-size=\"14px\" dominant-baseline=\"middle\" text-anchor=\"start\" >\nShots:\n 1000\n </text>\n<text x=\"10\" y=\"31.0\" font-size=\"14px\" dominant-baseline=\"middle\" text-anchor=\"start\" >\nKeys: 0 q1\n </text>\n<line x1=\"38.4\" x2=\"398.4\" y1=\"62.0\" y2=\"62.0\" stroke=\"#adb0b8\" stroke-width=\"1\" />\n<line x1=\"38.4\" x2=\"38.4\" y1=\"55.0\" y2=\"62.0\" stroke=\"#adb0b8\" stroke-width=\"1\" />\n<text x=\"40.4\" y=\"60.0\" font-size=\"12px\" dominant-baseline=\"bottom\" text-anchor=\"start\" fill=\"#575d6c\" >\n0.0\n </text>\n<line x1=\"38.4\" x2=\"38.4\" y1=\"62.0\" y2=\"137.0\" stroke=\"#adb0b8\" stroke-width=\"1\" />\n<line x1=\"98.4\" x2=\"98.4\" y1=\"55.0\" y2=\"62.0\" stroke=\"#adb0b8\" stroke-width=\"1\" />\n<text x=\"100.4\" y=\"60.0\" font-size=\"12px\" dominant-baseline=\"bottom\" text-anchor=\"start\" fill=\"#575d6c\" >\n0.102\n </text>\n<line x1=\"98.4\" x2=\"98.4\" y1=\"62.0\" y2=\"137.0\" stroke=\"#dfe1e6\" stroke-width=\"1\" />\n<line x1=\"158.4\" x2=\"158.4\" y1=\"55.0\" y2=\"62.0\" stroke=\"#adb0b8\" stroke-width=\"1\" />\n<text x=\"160.4\" y=\"60.0\" font-size=\"12px\" dominant-baseline=\"bottom\" text-anchor=\"start\" fill=\"#575d6c\" >\n0.204\n </text>\n<line x1=\"158.4\" x2=\"158.4\" y1=\"62.0\" y2=\"137.0\" stroke=\"#dfe1e6\" stroke-width=\"1\" />\n<line x1=\"218.4\" x2=\"218.4\" y1=\"55.0\" y2=\"62.0\" stroke=\"#adb0b8\" stroke-width=\"1\" />\n<text x=\"220.4\" y=\"60.0\" font-size=\"12px\" dominant-baseline=\"bottom\" text-anchor=\"start\" fill=\"#575d6c\" >\n0.307\n </text>\n<line x1=\"218.4\" x2=\"218.4\" y1=\"62.0\" y2=\"137.0\" stroke=\"#dfe1e6\" stroke-width=\"1\" />\n<line x1=\"278.4\" x2=\"278.4\" y1=\"55.0\" y2=\"62.0\" stroke=\"#adb0b8\" stroke-width=\"1\" />\n<text x=\"280.4\" y=\"60.0\" font-size=\"12px\" dominant-baseline=\"bottom\" text-anchor=\"start\" fill=\"#575d6c\" >\n0.409\n </text>\n<line x1=\"278.4\" x2=\"278.4\" y1=\"62.0\" y2=\"137.0\" stroke=\"#dfe1e6\" stroke-width=\"1\" />\n<line x1=\"338.4\" x2=\"338.4\" y1=\"55.0\" y2=\"62.0\" stroke=\"#adb0b8\" stroke-width=\"1\" />\n<text x=\"340.4\" y=\"60.0\" font-size=\"12px\" dominant-baseline=\"bottom\" text-anchor=\"start\" fill=\"#575d6c\" >\n0.511\n </text>\n<line x1=\"338.4\" x2=\"338.4\" y1=\"62.0\" y2=\"137.0\" stroke=\"#dfe1e6\" stroke-width=\"1\" />\n<text x=\"29.4\" y=\"85.0\" font-size=\"12px\" dominant-baseline=\"middle\" text-anchor=\"end\" fill=\"#575d6c\" >\n00\n </text>\n<line x1=\"31.4\" x2=\"38.4\" y1=\"85.0\" y2=\"85.0\" stroke=\"#adb0b8\" stroke-width=\"1\" />\n<rect x=\"38.4\" y=\"73.0\" width=\"287.08414872798426\" height=\"24\" id=\"bar_0_1648893153595107700\" fill=\"#5e7ce0\" />\n<text x=\"335.48414872798423\" y=\"85.0\" font-size=\"14px\" dominant-baseline=\"middle\" text-anchor=\"start\" fill=\"#575d6c\" id=\"bar_text_0_1648893153596106300\" fill-opacity=\"0\" >\n489\n </text>\n<text x=\"29.4\" y=\"115.0\" font-size=\"12px\" dominant-baseline=\"middle\" text-anchor=\"end\" fill=\"#575d6c\" >\n11\n </text>\n<line x1=\"31.4\" x2=\"38.4\" y1=\"115.0\" y2=\"115.0\" stroke=\"#adb0b8\" stroke-width=\"1\" />\n<rect x=\"38.4\" y=\"103.0\" width=\"299.99999999999994\" height=\"24\" id=\"bar_1_1648893153596106300\" fill=\"#16acff\" />\n<text x=\"348.3999999999999\" y=\"115.0\" font-size=\"14px\" dominant-baseline=\"middle\" text-anchor=\"start\" fill=\"#575d6c\" id=\"bar_text_1_1648893153596106300\" fill-opacity=\"0\" >\n511\n </text>\n<animate xlink:href=\"#bar_0_1648893153595107700\" attributeName=\"width\" from=\"0\" to=\"287.08414872798426\" dur=\"0.3s\" calcMode=\"spline\" values=\"0; 287.08414872798426\" keyTimes=\"0; 1\" keySplines=\"0.42 0 1 0.8;\" fill=\"freeze\" />\n<animate xlink:href=\"#bar_1_1648893153596106300\" attributeName=\"width\" from=\"0\" to=\"299.99999999999994\" dur=\"0.3s\" calcMode=\"spline\" values=\"0; 299.99999999999994\" keyTimes=\"0; 1\" keySplines=\"0.42 0 1 0.8;\" fill=\"freeze\" />\n<animate xlink:href=\"#bar_1_1648893153596106300\" attributeName=\"fill\" from=\"#16acff\" to=\"#fac209\" dur=\"0.15s\" calcMode=\"spline\" values=\"#16acff; #fac209\" keyTimes=\"0; 1\" keySplines=\"0.42 0 1 0.8;\" fill=\"freeze\" begin=\"0.3s\" />\n<animate xlink:href=\"#bar_text_0_1648893153596106300\" attributeName=\"fill-opacity\" from=\"0\" to=\"1\" dur=\"0.15s\" calcMode=\"spline\" values=\"0; 1\" keyTimes=\"0; 1\" keySplines=\"0.42 0 1 0.8;\" fill=\"freeze\" begin=\"0.3s\" />\n<animate xlink:href=\"#bar_text_1_1648893153596106300\" attributeName=\"fill-opacity\" from=\"0\" to=\"1\" dur=\"0.15s\" calcMode=\"spline\" values=\"0; 1\" keyTimes=\"0; 1\" keySplines=\"0.42 0 1 0.8;\" fill=\"freeze\" begin=\"0.3s\" />\n<text x=\"206.7\" y=\"41.0\" font-size=\"14px\" dominant-baseline=\"middle\" text-anchor=\"middle\" >\nprobability\n </text>\n</svg></div>",
      "text/plain": [
       "<mindquantum.io.display.measure_res_svg_drawer.SVGMeasure at 0x23867a09dc0>"
      ]
     },
     "execution_count": 29,
     "metadata": {},
     "output_type": "execute_result"
    }
   ],
   "source": [
    "result.svg()"
   ]
  },
  {
   "cell_type": "markdown",
   "metadata": {},
   "source": [
    "我们可以看到，采样结果中'00'出现了489次，'11'出现了511次。事实上把RY门参数赋值为0，它即为我们熟悉的I门，相当于不对线路做任何操作，因此该采样线路与上面不含参线路本质是同一个，可以观察到二次采样结果几乎相同，符合预期结果。"
   ]
  }
 ],
 "metadata": {
  "kernelspec": {
   "display_name": "Python 3",
   "language": "python",
   "name": "python3"
  },
  "language_info": {
   "codemirror_mode": {
    "name": "ipython",
    "version": 3
   },
   "file_extension": ".py",
   "mimetype": "text/x-python",
   "name": "python",
   "nbconvert_exporter": "python",
   "pygments_lexer": "ipython3",
   "version": "3.9.7"
  }
 },
 "nbformat": 4,
 "nbformat_minor": 4
}
